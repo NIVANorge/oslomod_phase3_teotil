{
 "cells": [
  {
   "cell_type": "code",
   "execution_count": 1,
   "id": "4c04165c-bce0-4bab-9b95-6c8ea6f5c886",
   "metadata": {},
   "outputs": [],
   "source": [
    "# # Run this and then restart the kernel at the start of each session to install\n",
    "# # 'teotil3' in development mode\n",
    "# !pip install -e /home/jovyan/projects/teotil3/"
   ]
  },
  {
   "cell_type": "code",
   "execution_count": 2,
   "id": "eef8c41a-49b7-4f1b-8c0b-c9c6c77efe4d",
   "metadata": {},
   "outputs": [],
   "source": [
    "import itertools\n",
    "import os\n",
    "\n",
    "import matplotlib.pyplot as plt\n",
    "import nivapy3 as nivapy\n",
    "import numpy as np\n",
    "import pandas as pd\n",
    "import seaborn as sn\n",
    "import teotil3 as teo\n",
    "from tqdm.notebook import tqdm\n",
    "\n",
    "plt.style.use(\"ggplot\")"
   ]
  },
  {
   "cell_type": "markdown",
   "id": "df30f2ba-6c09-4217-97f6-f145e928119b",
   "metadata": {},
   "source": [
    "# Run model"
   ]
  },
  {
   "cell_type": "code",
   "execution_count": 3,
   "id": "93c8f2bc-38e2-4161-9d0e-98444bf0a470",
   "metadata": {},
   "outputs": [],
   "source": [
    "# Period of interest\n",
    "st_yr, end_yr = 2017, 2019\n",
    "\n",
    "# Vassdragsområder of interest\n",
    "vassom_list = range(1, 18)\n",
    "\n",
    "# Data paths\n",
    "oslomod_scen_dir = r\"/home/jovyan/shared/common/oslofjord_modelling/phase3_scenarios\"\n",
    "\n",
    "# Scenarios\n",
    "scen_list = [\"Baseline\", \"Scenario_A\", \"Scenario_B\"]"
   ]
  },
  {
   "cell_type": "markdown",
   "id": "db0a75cb-5ec9-4a94-bfc3-f9a8c29092c8",
   "metadata": {},
   "source": [
    "## 1. Run TEOTIL3"
   ]
  },
  {
   "cell_type": "code",
   "execution_count": 4,
   "id": "b8e2f0c1-33c8-473a-b107-994b0af26aa3",
   "metadata": {},
   "outputs": [
    {
     "name": "stdout",
     "output_type": "stream",
     "text": [
      "Processing: Baseline\n",
      "Processing: Scenario_A\n",
      "Processing: Scenario_B\n"
     ]
    }
   ],
   "source": [
    "input_data_fold = os.path.join(oslomod_scen_dir, \"teotil3_input_files\")\n",
    "result_csv = os.path.join(\n",
    "    oslomod_scen_dir, f\"teotil3_oslomod_results_{st_yr}-{end_yr}.csv\"\n",
    ")\n",
    "\n",
    "df_list = []\n",
    "years = range(st_yr, end_yr + 1)\n",
    "for scen in scen_list:\n",
    "    print(\"Processing:\", scen)\n",
    "    for year in years:\n",
    "        csv_path = os.path.join(\n",
    "            input_data_fold,\n",
    "            scen,\n",
    "            f\"oslomod_teotil3_input_data_{scen.lower()}_{year}.csv\",\n",
    "        )\n",
    "        g = teo.model.run_model(\n",
    "            csv_path,\n",
    "            id_col=\"regine\",\n",
    "            next_down_col=\"regine_down\",\n",
    "            totals_from_subfracs=True,\n",
    "        )\n",
    "        res_df = teo.model.model_to_dataframe(\n",
    "            g, id_col=\"regine\", next_down_col=\"regine_down\"\n",
    "        )\n",
    "        res_df[\"scenario\"] = scen\n",
    "        res_df[\"year\"] = year\n",
    "        df_list.append(res_df)\n",
    "mod_df = pd.concat(df_list, axis=\"rows\")\n",
    "id_cols = [\"scenario\", \"year\", \"regine\", \"regine_down\"]\n",
    "cols = [col for col in mod_df.columns if col not in id_cols]\n",
    "mod_df = mod_df[id_cols + cols]\n",
    "mod_df.to_csv(result_csv, index=False)"
   ]
  }
 ],
 "metadata": {
  "kernelspec": {
   "display_name": "Python 3 (ipykernel)",
   "language": "python",
   "name": "python3"
  },
  "language_info": {
   "codemirror_mode": {
    "name": "ipython",
    "version": 3
   },
   "file_extension": ".py",
   "mimetype": "text/x-python",
   "name": "python",
   "nbconvert_exporter": "python",
   "pygments_lexer": "ipython3",
   "version": "3.13.2"
  }
 },
 "nbformat": 4,
 "nbformat_minor": 5
}
